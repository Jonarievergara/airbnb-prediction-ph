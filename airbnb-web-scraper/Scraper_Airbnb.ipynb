{
 "cells": [
  {
   "cell_type": "markdown",
   "metadata": {},
   "source": [
    "#**Airbnb Listings Scraper**\n",
    "<hr style=\"border:1px solid\"> </hr>"
   ]
  },
  {
   "cell_type": "markdown",
   "metadata": {},
   "source": [
    "This notebook scrapes the data from Airbnb listings using Beautifulsoup and Selenium. \n",
    "\n",
    "**Input:** A .csv file that contains the url of the listings to be scraped. These urls were scraped from the Airbnb search results when a province is searched from the search bar of Airbnb.\n",
    "\n",
    "**Output:** CSV files containing the data per listing."
   ]
  },
  {
   "cell_type": "markdown",
   "metadata": {},
   "source": [
    "### Package Imports"
   ]
  },
  {
   "cell_type": "code",
   "execution_count": 1,
   "metadata": {},
   "outputs": [],
   "source": [
    "import requests\n",
    "from selenium import webdriver\n",
    "import random, time\n",
    "import pandas as pd\n",
    "import datetime\n",
    "import csv"
   ]
  },
  {
   "cell_type": "markdown",
   "metadata": {},
   "source": [
    "### <font color=Grey> Functions that gets the details from AirBnB </font>"
   ]
  },
  {
   "cell_type": "code",
   "execution_count": 2,
   "metadata": {},
   "outputs": [],
   "source": [
    "def get_listing_data(url, driver, sleep_min, sleep_max):\n",
    "    '''\n",
    "    Scrapes the listings data from a specific url.\n",
    "\n",
    "    Args:\n",
    "        url: url of the Airbnb listing to be scraped\n",
    "        driver: instance of chrome driver\n",
    "        sleep_min: minimum sleep value while waiting for the page to load (in seconds)\n",
    "        sleep_max: maximum sleep value while waiting for the page to load (in seconds)\n",
    "        \n",
    "    Returns:\n",
    "        A dictionary with fields as dictionary keys and scraped details as values.\n",
    "    '''\n",
    "    \n",
    "    listing_data = {}\n",
    "    \n",
    "    # Defines the element and the class that the scraper will look for per field\n",
    "\n",
    "    # Creates the other urls to be scraped from the base url\n",
    "    amenities_url, reviews_url, location_url = create_urls(url)\n",
    "    \n",
    "    # Includes the url as a column. URLs will serve as the unique identifier of each listing\n",
    "    listing_data['url'] = url\n",
    "    \n",
    "    # Opens the main listing page.\n",
    "    driver.get(url)\n",
    "    time.sleep(random.randint(sleep_min, sleep_max))\n",
    "    \n",
    "    # Scrapes the title, location (address), and rating of the listing\n",
    "    title = driver.find_elements_by_xpath(get_elem_xpath('title'))\n",
    "    listing_data['title'] = [element.text for element in title]\n",
    "    \n",
    "    location = driver.find_elements_by_xpath(get_elem_xpath('location'))\n",
    "    listing_data['location'] = [element.text for element in location]\n",
    "    \n",
    "    rating = driver.find_elements_by_xpath(get_elem_xpath('rating'))\n",
    "    listing_data['rating'] = [element.text for element in rating]\n",
    "    \n",
    "    # Scrapes the type of listing (private room/ shared room / entire villa etc.)\n",
    "    type_airbnb = driver.find_elements_by_xpath(get_elem_xpath('type_airbnb'))\n",
    "    for i in type_airbnb:\n",
    "        type_airbnb = i.text.split(\"hosted\")\n",
    "        listing_data[\"type_airbnb\"] = type_airbnb[0]\n",
    "        \n",
    "    # Scrapes the decription tags (superhost, enhanced clean, entire home, etc.)\n",
    "    desc_tags = driver.find_elements_by_xpath(get_elem_xpath('desc_tags')) \n",
    "    listing_data['desc_tags'] = [element.text for element in desc_tags]\n",
    "    \n",
    "    # Also the decription tags but using a different class in case it wasn't picked up by the previous block of code.\n",
    "    desc_tags_2 = driver.find_elements_by_xpath(get_elem_xpath('desc_tags_2'))\n",
    "    listing_data['desc_tags2'] = [element.text for element in desc_tags_2]\n",
    "\n",
    "    # Scrapes the number of guests, bedrooms, beds, and bathrooms\n",
    "    num_bed = driver.find_elements_by_xpath(get_elem_xpath('gbbb'))\n",
    "    for i in num_bed:\n",
    "        l1 = i.text.split(\"\\n\")\n",
    "        l2 = l1[1].split(\"·\")\n",
    "        listing_data[\"gbbb\"] = l2    \n",
    "    \n",
    "    # Scrapes the price per night\n",
    "    price_per_night = driver.find_elements_by_xpath(get_elem_xpath('price_per_night'))\n",
    "    for i in price_per_night:\n",
    "        listing_data[\"price_per_night\"] = i.text[1:]\n",
    "    \n",
    "    # Scrapes details about the host\n",
    "    host_tags = driver.find_elements_by_xpath(get_elem_xpath('host_tags'))\n",
    "    listing_data['host_tags'] = [element.text for element in host_tags]\n",
    "    \n",
    "    # Scrapes details about the response rate and response time of the host\n",
    "    host_response = driver.find_elements_by_xpath(get_elem_xpath('host_response'))\n",
    "    listing_data['host_response'] = [element.text for element in host_response]\n",
    "    \n",
    "    # Opens the reviews page\n",
    "    driver.get(reviews_url)\n",
    "    time.sleep(random.randint(sleep_min, sleep_max))\n",
    "\n",
    "    # Scrapes the ratings per category\n",
    "    review_label = driver.find_elements_by_xpath(get_elem_xpath('review_label'))\n",
    "    review_value = driver.find_elements_by_xpath(get_elem_xpath('review_value'))\n",
    "\n",
    "    for (i,j) in zip(review_label, review_value):\n",
    "        listing_data[i.text] = j.text\n",
    "    \n",
    "    # Opens the amenities page\n",
    "    driver.get(amenities_url)\n",
    "    time.sleep(random.randint(sleep_min, sleep_max))\n",
    "    \n",
    "    # Scrapes the amenities values\n",
    "    amenities = driver.find_elements_by_xpath(get_elem_xpath('amenities'))\n",
    "    l4 = []\n",
    "    for i in amenities:\n",
    "        l3 = i.text.split(\"\\n\")\n",
    "        # Appends the amenity in the list only if it is currently availble\n",
    "        if \"Unavailable\" not in l3[0]:\n",
    "            l4.append(l3[0])\n",
    "    listing_data[\"amenities\"] = l4\n",
    "    \n",
    "    # Opens the locations page\n",
    "    driver.get(location_url)\n",
    "    time.sleep(random.randint(sleep_min, sleep_max))\n",
    "    \n",
    "    # Gets the map coordinates\n",
    "    coordinates = driver.find_elements_by_xpath('//a[@target=\"_blank\"]')\n",
    "    for i in coordinates:\n",
    "        if \"maps?ll\" in i.get_attribute(\"href\"):\n",
    "            listing_data[\"latitude\"] = i.get_attribute(\"href\").split(\"=\")[1].split(\"&\")[0].split(\",\")[0]\n",
    "            listing_data[\"longitude\"] = i.get_attribute(\"href\").split(\"=\")[1].split(\"&\")[0].split(\",\")[1]    \n",
    "    \n",
    "    return listing_data"
   ]
  },
  {
   "cell_type": "code",
   "execution_count": 3,
   "metadata": {},
   "outputs": [],
   "source": [
    "def get_elem_xpath(key):\n",
    "    '''\n",
    "    # Function that returns the xpath needed to scrape each field\n",
    "\n",
    "    Args:\n",
    "        key: field to be scraped\n",
    "         \n",
    "    Returns:\n",
    "        xpath value\n",
    "    '''  \n",
    "    fields_xpath = {\n",
    "        'title': ['h1','_14i3z6h'],\n",
    "        'location': ['span','_169len4r'],\n",
    "        'rating': ['span','_mvp6j0g'],    \n",
    "        'type_airbnb': ['div','_xcsyj0'],    \n",
    "        'desc_tags': ['div','_1qsawv5'],    \n",
    "        'desc_tags_2': ['div','t1bchdij dir dir-ltr'],\n",
    "        'gbbb': ['div','_tqmy57'],\n",
    "        'price_per_night': ['span','_pgfqnw'],\n",
    "        'host_tags': ['div','_xcsyj0'],    \n",
    "        'host_response': ['div','_1qsawv5'],    \n",
    "        'review_label': ['div','_y1ba89'],\n",
    "        'review_value': ['span','_4oybiu'],\n",
    "        'amenities': ['div','_vzrbjl']\n",
    "    }\n",
    "    return \"//\" + fields_xpath[key][0] + \"[@class='\" + fields_xpath[key][1] + \"']\""
   ]
  },
  {
   "cell_type": "code",
   "execution_count": 4,
   "metadata": {},
   "outputs": [],
   "source": [
    "def create_urls(url):\n",
    "    '''\n",
    "    # Creates the other urls to be scraped from the base url\n",
    "\n",
    "    Args:\n",
    "        url: url of the Airbnb listing to be scraped\n",
    "         \n",
    "    Returns:\n",
    "        Four other urls for the amenities, reviews, and location pages.\n",
    "    '''    \n",
    "    base_url = url.split(\"?\")[0]\n",
    "    return base_url + '/amenities', base_url + '/reviews', base_url + '/location'"
   ]
  },
  {
   "cell_type": "code",
   "execution_count": 5,
   "metadata": {},
   "outputs": [],
   "source": [
    "def save_dataset(df):\n",
    "    \"\"\"\n",
    "    Saves the scraped data (per batch) into a csv file with timestamp as the filename\n",
    "    \"\"\"\n",
    "    df_data = pd.DataFrame(df)\n",
    "    x = datetime.datetime.now().strftime(\"%m-%d-%Y-%H-%M-%S\")\n",
    "    fname = x + \".csv\"\n",
    "    df_data.to_csv(fname)"
   ]
  },
  {
   "cell_type": "code",
   "execution_count": 6,
   "metadata": {
    "scrolled": true
   },
   "outputs": [],
   "source": [
    "def scrape_airbnb(df, index_start, index_end, rows_per_file, min_sleep, max_sleep, chromedriver_path):\n",
    "    \"\"\"\n",
    "    Scrapes the data from the Airbnb website\n",
    "    \n",
    "    Args:\n",
    "        df: list of urls to be scraped\n",
    "        index_start: from the list of urls, select the index where you want to start scraping\n",
    "        index_end: from the list of urls, select the index where you want to end scraping (exclusive)\n",
    "        rows_per_file: number of listings data each output file will contain\n",
    "        min_sleep: minimum sleep value while waiting for the page to load (in seconds)\n",
    "        max_sleep: maximum sleep value while waiting for the page to load (in seconds, exclusive)\n",
    "        chromedriver_path: path of the chromedriver in the local computer \n",
    "\n",
    "    Returns:\n",
    "        None. This functions outputs the scraped data in separate csv files.\n",
    "        \n",
    "    \"\"\"\n",
    "    \n",
    "    dataset = []\n",
    "    urls = df['url'][index_start:index_end]\n",
    "    \n",
    "    driver = webdriver.Chrome(chromedriver_path)\n",
    "    \n",
    "    i = 0\n",
    "    j = len(urls)-1\n",
    "    \n",
    "    for url in urls:\n",
    "        try:\n",
    "            print(\"\\nScraping listing data \" + str(i) + \" out of \" + str(j)) \n",
    "            new_data = get_listing_data(url, driver, min_sleep, max_sleep)\n",
    "            print(new_data)\n",
    "            dataset.append(new_data)\n",
    "            if (i+1) % rows_per_file == 0:\n",
    "                print(\"Saved\")\n",
    "                save_dataset(dataset)\n",
    "                dataset = []\n",
    "            i += 1\n",
    "        except Exception:\n",
    "            print(\"An exception occured\")\n",
    "            i += 1\n",
    "            pass\n",
    "    \n",
    "    driver.close()"
   ]
  },
  {
   "cell_type": "markdown",
   "metadata": {},
   "source": [
    "### <font color=Grey> Loads the url list </font>"
   ]
  },
  {
   "cell_type": "code",
   "execution_count": 7,
   "metadata": {
    "scrolled": true
   },
   "outputs": [
    {
     "data": {
      "text/html": [
       "<div>\n",
       "<style scoped>\n",
       "    .dataframe tbody tr th:only-of-type {\n",
       "        vertical-align: middle;\n",
       "    }\n",
       "\n",
       "    .dataframe tbody tr th {\n",
       "        vertical-align: top;\n",
       "    }\n",
       "\n",
       "    .dataframe thead th {\n",
       "        text-align: right;\n",
       "    }\n",
       "</style>\n",
       "<table border=\"1\" class=\"dataframe\">\n",
       "  <thead>\n",
       "    <tr style=\"text-align: right;\">\n",
       "      <th></th>\n",
       "      <th>title</th>\n",
       "      <th>url</th>\n",
       "    </tr>\n",
       "  </thead>\n",
       "  <tbody>\n",
       "    <tr>\n",
       "      <th>0</th>\n",
       "      <td>Studio Type The Grass Residence</td>\n",
       "      <td>https://www.airbnb.com/rooms/45858507?previous...</td>\n",
       "    </tr>\n",
       "    <tr>\n",
       "      <th>1</th>\n",
       "      <td>Abby's Place</td>\n",
       "      <td>https://www.airbnb.com/rooms/45569962?previous...</td>\n",
       "    </tr>\n",
       "    <tr>\n",
       "      <th>2</th>\n",
       "      <td>Balai Ni Kuya Condo-Feel Apartment Unit</td>\n",
       "      <td>https://www.airbnb.com/rooms/39305420?previous...</td>\n",
       "    </tr>\n",
       "    <tr>\n",
       "      <th>3</th>\n",
       "      <td>1 Bedroom w/ Balcony at Trees Residences, Fair...</td>\n",
       "      <td>https://www.airbnb.com/rooms/23222443?previous...</td>\n",
       "    </tr>\n",
       "    <tr>\n",
       "      <th>4</th>\n",
       "      <td>Condo Village at Trees Residences</td>\n",
       "      <td>https://www.airbnb.com/rooms/22454349?previous...</td>\n",
       "    </tr>\n",
       "  </tbody>\n",
       "</table>\n",
       "</div>"
      ],
      "text/plain": [
       "                                               title  \\\n",
       "0                    Studio Type The Grass Residence   \n",
       "1                                       Abby's Place   \n",
       "2            Balai Ni Kuya Condo-Feel Apartment Unit   \n",
       "3  1 Bedroom w/ Balcony at Trees Residences, Fair...   \n",
       "4                  Condo Village at Trees Residences   \n",
       "\n",
       "                                                 url  \n",
       "0  https://www.airbnb.com/rooms/45858507?previous...  \n",
       "1  https://www.airbnb.com/rooms/45569962?previous...  \n",
       "2  https://www.airbnb.com/rooms/39305420?previous...  \n",
       "3  https://www.airbnb.com/rooms/23222443?previous...  \n",
       "4  https://www.airbnb.com/rooms/22454349?previous...  "
      ]
     },
     "execution_count": 7,
     "metadata": {},
     "output_type": "execute_result"
    }
   ],
   "source": [
    "df_all = pd.read_csv('listings_urls.csv')\n",
    "df_all.head()"
   ]
  },
  {
   "cell_type": "markdown",
   "metadata": {},
   "source": [
    "### <font color=Grey> User options </font>"
   ]
  },
  {
   "cell_type": "code",
   "execution_count": 12,
   "metadata": {},
   "outputs": [],
   "source": [
    "# from the list of urls, select the index where you want to start scraping\n",
    "index_start = 0\n",
    "\n",
    "# from the list of urls, select the index where you want to end scraping (exclusive)\n",
    "index_end = 5\n",
    "\n",
    "# number of listings data each output file will contain\n",
    "rows_per_file = 5\n",
    "\n",
    "# minimum sleep value while waiting for the page to load (in seconds)\n",
    "min_sleep = 18\n",
    "\n",
    "# maximum sleep value while waiting for the page to load (in seconds, exclusive)\n",
    "max_sleep = 22\n",
    "\n",
    "# path of the chromedriver in the local computer \n",
    "chromedriver_path = r'C:\\\\Users\\\\Edward Apostol\\\\Downloads\\\\chromedriver.exe'"
   ]
  },
  {
   "cell_type": "markdown",
   "metadata": {},
   "source": [
    "### <font color=Grey> Running the scraper </font>"
   ]
  },
  {
   "cell_type": "code",
   "execution_count": 13,
   "metadata": {
    "scrolled": true
   },
   "outputs": [
    {
     "name": "stdout",
     "output_type": "stream",
     "text": [
      "\n",
      "Scraping listing data 0 out of 4\n",
      "{'url': 'https://www.airbnb.com/rooms/45858507?previous_page_section_name=1000&federated_search_id=771f9784-bd44-4af7-92d5-7e2b678c8f1f', 'title': ['Studio Type The Grass Residence'], 'location': ['', 'Quezon City, Metro Manila, Philippines'], 'rating': [], 'type_airbnb': 'Entire condominium ', 'desc_tags': ['Entire home', 'Enhanced Clean'], 'desc_tags2': [], 'gbbb': ['2 guests ', ' Studio ', ' 0 beds ', ' 1 bath'], 'price_per_night': '500', 'host_tags': ['Entire condominium hosted by Motel'], 'host_response': ['Entire home', 'Enhanced Clean'], 'amenities': ['Hair dryer', 'Shampoo', 'Iron', 'Hangers', 'Essentials', 'TV', 'Heating', 'Air conditioning', 'Smoke alarm', 'Fire extinguisher', 'Wifi', 'Dedicated workspace', 'Kitchen', 'Gym', 'Pool', 'Long term stays allowed'], 'latitude': '14.65975', 'longitude': '121.02906'}\n",
      "\n",
      "Scraping listing data 1 out of 4\n",
      "{'url': 'https://www.airbnb.com/rooms/45569962?previous_page_section_name=1000&federated_search_id=771f9784-bd44-4af7-92d5-7e2b678c8f1f', 'title': [\"Abby's Place\", 'Caloocan, Metro Manila, Philippines'], 'location': ['Caloocan, Metro Manila, Philippines'], 'rating': ['4.86'], 'type_airbnb': 'Entire house ', 'desc_tags': ['Entire home', 'Enhanced Clean', 'Self check-in', 'Rowena is a Superhost'], 'desc_tags2': [], 'gbbb': ['6 guests ', ' 2 bedrooms ', ' 6 beds ', ' 1.5 baths'], 'price_per_night': '500', 'host_tags': ['Entire house hosted by Rowena'], 'host_response': ['Entire home', 'Enhanced Clean', 'Self check-in', 'Rowena is a Superhost'], '': '', 'Cleanliness': '4.9', 'Accuracy': '5.0', 'Communication': '5.0', 'Location': '4.7', 'Check-in': '5.0', 'Value': '5.0', 'amenities': ['Hot water', 'Conditioner', 'Shampoo', 'Washer', 'Bed linens', 'Extra pillows and blankets', 'Essentials', 'Hangers', 'Iron', 'TV', 'Ethernet connection', 'Sound system', 'Air conditioning', 'Portable fans', 'Fire extinguisher', 'Wifi', 'Dedicated workspace', 'Kitchen', 'Mini fridge', 'Microwave', 'Dishes and silverware', 'Cooking basics', 'Stove', 'Freezer', 'Private entrance', 'Free parking on premises', 'Free street parking', 'Long term stays allowed', 'Cleaning before checkout', 'Lockbox'], 'latitude': '14.77031', 'longitude': '121.07764'}\n",
      "\n",
      "Scraping listing data 2 out of 4\n",
      "{'url': 'https://www.airbnb.com/rooms/39305420?previous_page_section_name=1000&federated_search_id=771f9784-bd44-4af7-92d5-7e2b678c8f1f', 'title': ['Balai Ni Kuya Condo-Feel Apartment Unit', 'Quezon City, Metro Manila, Philippines'], 'location': ['Quezon City, Metro Manila, Philippines'], 'rating': ['5.0'], 'type_airbnb': 'Entire apartment ', 'desc_tags': ['Entire home', 'Enhanced Clean', 'Lloyd is a Superhost', 'Great check-in experience', 'House rules'], 'desc_tags2': [], 'gbbb': ['3 guests ', ' 1 bedroom ', ' 2 beds ', ' 2.5 baths'], 'price_per_night': '1,300', 'host_tags': ['Entire apartment hosted by Lloyd'], 'host_response': ['Entire home', 'Enhanced Clean', 'Lloyd is a Superhost', 'Great check-in experience', 'House rules'], '': '', 'Cleanliness': '5.0', 'Accuracy': '5.0', 'Communication': '5.0', 'Location': '4.8', 'Check-in': '5.0', 'Value': '5.0', 'amenities': ['Hair dryer', 'Shampoo', 'Hot water', 'Body soap', 'Bidet', 'Dryer', 'Iron', 'Washer', 'Hangers', 'Essentials', 'Bed linens', 'Extra pillows and blankets', 'Drying rack for clothing', 'Clothing storage', 'TV', 'Air conditioning', 'First aid kit', 'Fire extinguisher', 'Wifi', 'Dedicated workspace', 'Kitchen', 'Hot water kettle', 'Microwave', 'Refrigerator', 'Dishes and silverware', 'Cooking basics', 'Oven', 'Stove', 'Dining table', 'Rice maker', 'Patio or balcony', 'Backyard', 'Free parking on premises', 'Long term stays allowed'], 'latitude': '14.7397', 'longitude': '121.05469'}\n",
      "\n",
      "Scraping listing data 3 out of 4\n",
      "{'url': 'https://www.airbnb.com/rooms/23222443?previous_page_section_name=1000&federated_search_id=771f9784-bd44-4af7-92d5-7e2b678c8f1f', 'title': ['1 Bedroom w/ Balcony at Trees Residences, Fairview', 'Quezon City, Metro Manila, Philippines'], 'location': ['Quezon City, Metro Manila, Philippines'], 'rating': ['4.71'], 'type_airbnb': 'Entire place ', 'desc_tags': ['Entire home', 'Enhanced Clean', 'Miguel is a Superhost', 'Great location', 'House rules'], 'desc_tags2': [], 'gbbb': ['2 guests ', ' 1 bedroom ', ' 1 bed ', ' 1 bath'], 'price_per_night': '800', 'host_tags': ['Entire place hosted by Miguel'], 'host_response': ['Entire home', 'Enhanced Clean', 'Miguel is a Superhost', 'Great location', 'House rules'], '': '', 'Cleanliness': '4.8', 'Accuracy': '4.8', 'Communication': '4.9', 'Location': '4.8', 'Check-in': '4.9', 'Value': '4.8', 'amenities': ['Hair dryer', 'Shampoo', 'Hangers', 'Essentials', 'Bed linens', 'TV', 'Heating', 'Air conditioning', 'Smoke alarm', 'Fire extinguisher', 'Wifi', 'Dedicated workspace', 'Refrigerator', 'Dishes and silverware', 'Patio or balcony', 'Backyard', 'Pool', 'Paid parking on premises', 'Long term stays allowed'], 'latitude': '14.73693', 'longitude': '121.06528'}\n",
      "\n",
      "Scraping listing data 4 out of 4\n",
      "{'url': 'https://www.airbnb.com/rooms/22454349?previous_page_section_name=1000&federated_search_id=771f9784-bd44-4af7-92d5-7e2b678c8f1f', 'title': ['Condo Village at Trees Residences', 'Quezon City, Metro Manila, Philippines'], 'location': ['Quezon City, Metro Manila, Philippines'], 'rating': ['4.50'], 'type_airbnb': 'Entire condominium ', 'desc_tags': ['Entire home', 'Pool', 'House rules'], 'desc_tags2': [], 'gbbb': ['2 guests ', ' Studio ', ' 1 bed ', ' 1 bath'], 'price_per_night': '999', 'host_tags': ['Entire condominium hosted by Bernadette Joy'], 'host_response': ['Entire home', 'Pool', 'House rules'], '': '', 'Cleanliness': '5.0', 'Accuracy': '4.5', 'Communication': '5.0', 'Location': '5.0', 'Check-in': '5.0', 'Value': '4.8', 'amenities': ['Hair dryer', 'Shampoo', 'Hot water', 'Dryer', 'Washer', 'Hangers', 'Essentials', 'Bed linens', 'Extra pillows and blankets', 'TV', 'Heating', 'Air conditioning', 'Smoke alarm', 'Fire extinguisher', 'Wifi', 'Microwave', 'Refrigerator', 'Private entrance', 'Elevator', 'Pool', 'Paid parking off premises', 'Paid parking on premises', 'Host greets you', 'Luggage dropoff allowed', 'Long term stays allowed', 'Cleaning before checkout'], 'latitude': '14.73651', 'longitude': '121.06217'}\n",
      "Saved\n"
     ]
    }
   ],
   "source": [
    "scrape_airbnb(df_all, index_start, index_end, rows_per_file, min_sleep, max_sleep, chromedriver_path)"
   ]
  },
  {
   "cell_type": "code",
   "execution_count": null,
   "metadata": {},
   "outputs": [],
   "source": []
  }
 ],
 "metadata": {
  "kernelspec": {
   "display_name": "Python 3",
   "language": "python",
   "name": "python3"
  },
  "language_info": {
   "codemirror_mode": {
    "name": "ipython",
    "version": 3
   },
   "file_extension": ".py",
   "mimetype": "text/x-python",
   "name": "python",
   "nbconvert_exporter": "python",
   "pygments_lexer": "ipython3",
   "version": "3.8.5"
  }
 },
 "nbformat": 4,
 "nbformat_minor": 4
}
